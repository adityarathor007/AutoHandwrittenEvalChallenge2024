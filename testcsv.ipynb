{
 "cells": [
  {
   "cell_type": "code",
   "execution_count": 18,
   "metadata": {},
   "outputs": [],
   "source": [
    "import pandas as pd\n",
    "actualAns_df=pd.read_csv('Marks.csv')\n",
    "\n"
   ]
  },
  {
   "cell_type": "code",
   "execution_count": 27,
   "metadata": {},
   "outputs": [
    {
     "name": "stdout",
     "output_type": "stream",
     "text": [
      "20240328_153316.jpg\n",
      "3\n",
      "20240328_151033.jpg\n",
      "4\n",
      "20240328_152349.jpg\n",
      "4\n",
      "20240328_145247.jpg\n",
      "5\n",
      "20240328_150204.jpg\n",
      "5\n",
      "20240328_151020.jpg\n",
      "5\n",
      "20240328_151304.jpg\n",
      "5\n",
      "20240328_152408.jpg\n",
      "5\n",
      "20240328_145148.jpg\n",
      "6\n",
      "20240328_145719.jpg\n",
      "6\n",
      "20240328_150931.jpg\n",
      "6\n",
      "20240328_154321.jpg\n",
      "6\n",
      "20240328_155745.jpg\n",
      "6\n",
      "20240328_155818.jpg\n",
      "6\n",
      "20240328_152314.jpg\n",
      "7\n",
      "20240328_153036.jpg\n",
      "7\n",
      "20240328_153456.jpg\n",
      "7\n",
      "20240328_154601.jpg\n",
      "7\n",
      "20240328_154610.jpg\n",
      "7\n",
      "20240328_154830.jpg\n",
      "7\n",
      "20240328_155417.jpg\n",
      "7\n",
      "20240328_150636.jpg\n",
      "8\n",
      "20240328_151238.jpg\n",
      "8\n",
      "20240328_153433.jpg\n",
      "8\n",
      "20240328_154250.jpg\n",
      "8\n",
      "20240328_153349.jpg\n",
      "9\n",
      "20240328_153543.jpg\n",
      "9\n",
      "20240328_153338.jpg\n",
      "10\n"
     ]
    }
   ],
   "source": [
    "import pandas as pd\n",
    "\n",
    "# pred_df=pd.read_csv('pred_output.csv')\n",
    "actual_df=pd.read_csv('Marks.csv')\n",
    "\n",
    "for index, row in actual_df.iterrows():\n",
    "    filename=row[\"Filename\"]\n",
    "    print(filename)\n",
    "    actual_row=actual_df.loc[actual_df['Filename']==filename]\n",
    "\n",
    "    actual_marks=actual_row['Total Marks'].values[0]\n",
    "    print(actual_marks)"
   ]
  },
  {
   "cell_type": "code",
   "execution_count": 1,
   "metadata": {},
   "outputs": [
    {
     "name": "stdout",
     "output_type": "stream",
     "text": [
      "3.8.19 (default, Mar 20 2024, 19:58:24) \n",
      "[GCC 11.2.0]\n"
     ]
    },
    {
     "name": "stderr",
     "output_type": "stream",
     "text": [
      "2024-06-20 10:51:55.951703: I tensorflow/core/platform/cpu_feature_guard.cc:182] This TensorFlow binary is optimized to use available CPU instructions in performance-critical operations.\n",
      "To enable the following instructions: AVX2 FMA, in other operations, rebuild TensorFlow with the appropriate compiler flags.\n",
      "2024-06-20 10:51:57.963612: W tensorflow/compiler/tf2tensorrt/utils/py_utils.cc:38] TF-TRT Warning: Could not find TensorRT\n"
     ]
    },
    {
     "name": "stdout",
     "output_type": "stream",
     "text": [
      "!------------------------------start-----------------------------------!\n",
      "Started processing of the image : 20240328_145247.jpg\n",
      "6930\n",
      "[2024/06/20 10:52:01] ppocr DEBUG: Namespace(alpha=1.0, alphacolor=(255, 255, 255), benchmark=False, beta=1.0, binarize=False, cls_batch_num=6, cls_image_shape='3, 48, 192', cls_model_dir='/home/adi_techbuddy/.paddleocr/whl/cls/ch_ppocr_mobile_v2.0_cls_infer', cls_thresh=0.9, cpu_threads=10, crop_res_save_dir='./output', det=True, det_algorithm='DB', det_box_type='quad', det_db_box_thresh=0.6, det_db_score_mode='fast', det_db_thresh=0.3, det_db_unclip_ratio=1.5, det_east_cover_thresh=0.1, det_east_nms_thresh=0.2, det_east_score_thresh=0.8, det_limit_side_len=960, det_limit_type='max', det_model_dir='/home/adi_techbuddy/.paddleocr/whl/det/en/en_PP-OCRv3_det_infer', det_pse_box_thresh=0.85, det_pse_min_area=16, det_pse_scale=1, det_pse_thresh=0, det_sast_nms_thresh=0.2, det_sast_score_thresh=0.5, draw_img_save_dir='./inference_results', drop_score=0.5, e2e_algorithm='PGNet', e2e_char_dict_path='./ppocr/utils/ic15_dict.txt', e2e_limit_side_len=768, e2e_limit_type='max', e2e_model_dir=None, e2e_pgnet_mode='fast', e2e_pgnet_score_thresh=0.5, e2e_pgnet_valid_set='totaltext', enable_mkldnn=False, fourier_degree=5, gpu_id=0, gpu_mem=500, help='==SUPPRESS==', image_dir=None, image_orientation=False, invert=False, ir_optim=True, kie_algorithm='LayoutXLM', label_list=['0', '180'], lang='en', layout=True, layout_dict_path=None, layout_model_dir=None, layout_nms_threshold=0.5, layout_score_threshold=0.5, max_batch_size=10, max_text_length=25, merge_no_span_structure=True, min_subgraph_size=15, mode='structure', ocr=True, ocr_order_method=None, ocr_version='PP-OCRv4', output='./output', page_num=0, precision='fp32', process_id=0, re_model_dir=None, rec=True, rec_algorithm='SVTR_LCNet', rec_batch_num=6, rec_char_dict_path='/home/adi_techbuddy/anaconda3/envs/mycondaenv/lib/python3.8/site-packages/paddleocr/ppocr/utils/en_dict.txt', rec_image_inverse=True, rec_image_shape='3, 48, 320', rec_model_dir='/home/adi_techbuddy/.paddleocr/whl/rec/en/en_PP-OCRv4_rec_infer', recovery=False, save_crop_res=False, save_log_path='./log_output/', scales=[8, 16, 32], ser_dict_path='../train_data/XFUND/class_list_xfun.txt', ser_model_dir=None, show_log=True, sr_batch_num=1, sr_image_shape='3, 32, 128', sr_model_dir=None, structure_version='PP-StructureV2', table=True, table_algorithm='TableAttn', table_char_dict_path=None, table_max_len=488, table_model_dir=None, total_process_num=1, type='ocr', use_angle_cls=False, use_dilation=False, use_gpu=False, use_mp=False, use_npu=False, use_onnx=False, use_pdf2docx_api=False, use_pdserving=False, use_space_char=True, use_tensorrt=False, use_visual_backbone=True, use_xpu=False, vis_font_path='./doc/fonts/simfang.ttf', warmup=False)\n",
      "[2024/06/20 10:52:02] ppocr WARNING: Since the angle classifier is not initialized, it will not be used during the forward process\n",
      "[2024/06/20 10:52:04] ppocr DEBUG: dt_boxes num : 39, elapsed : 0.27574610710144043\n",
      "[2024/06/20 10:52:06] ppocr DEBUG: rec_res num  : 39, elapsed : 2.085512638092041\n",
      "OCR detection done\n",
      "TRUE/FALSE\n",
      "[[5490.0, 86.0], [6407.0, 58.0], [6412.0, 203.0], [5495.0, 231.0]]\n",
      "SN\n",
      "[[884.0, 153.0], [1135.0, 153.0], [1135.0, 289.0], [884.0, 289.0]]\n",
      "Statement\n",
      "[[1178.0, 153.0], [1828.0, 153.0], [1828.0, 298.0], [1178.0, 298.0]]\n",
      "If a E Rd, then a trace of the matrix aa is equal to the Euclidean distance\n",
      "[[1169.0, 494.0], [5396.0, 450.0], [5397.0, 620.0], [1171.0, 664.0]]\n",
      "between the origin and the point a.\n",
      "[[1204.0, 697.0], [3049.0, 697.0], [3049.0, 808.0], [1204.0, 808.0]]\n",
      "doue\n",
      "[[5643.0, 981.0], [6043.0, 1016.0], [6025.0, 1211.0], [5626.0, 1177.0]]\n",
      "2\n",
      "[[953.0, 1054.0], [1031.0, 1054.0], [1031.0, 1139.0], [953.0, 1139.0]]\n",
      "independently.\n",
      "[[1204.0, 1216.0], [1949.0, 1216.0], [1949.0, 1334.0], [1204.0, 1334.0]]\n",
      "Holoe\n",
      "[[5585.0, 1510.0], [6041.0, 1533.0], [6031.0, 1720.0], [5576.0, 1697.0]]\n",
      "For a particular x, the value of the probability mass function can be greater than\n",
      "[[1160.0, 1548.0], [5421.0, 1504.0], [5423.0, 1682.0], [1162.0, 1726.0]]\n",
      "3\n",
      "[[944.0, 1590.0], [1014.0, 1590.0], [1014.0, 1674.0], [944.0, 1674.0]]\n",
      "one.\n",
      "[[1178.0, 1760.0], [1403.0, 1760.0], [1403.0, 1862.0], [1178.0, 1862.0]]\n",
      "yure\n",
      "[[5685.0, 1959.0], [6095.0, 1994.0], [6078.0, 2180.0], [5669.0, 2146.0]]\n",
      "The PCA will project 2D-data points to [1,0]T if variance(x)> variance(y\n",
      "[[1169.0, 2083.0], [5257.0, 2039.0], [5259.0, 2218.0], [1171.0, 2262.0]]\n",
      "dolse\n",
      "[[5670.0, 2392.0], [6130.0, 2436.0], [6111.0, 2623.0], [5651.0, 2579.0]]\n",
      "If data distributions exactly follow y=x, then the rank of the covariance matrix\n",
      "[[1160.0, 2440.0], [5456.0, 2396.0], [5458.0, 2566.0], [1162.0, 2610.0]]\n",
      "5\n",
      "[[936.0, 2474.0], [1014.0, 2474.0], [1014.0, 2558.0], [936.0, 2558.0]]\n",
      "will be zero.\n",
      "[[1195.0, 2644.0], [1836.0, 2644.0], [1836.0, 2762.0], [1195.0, 2762.0]]\n",
      "If X and Y are two real-valued random variables such that CouX,Y)0 then\n",
      "[[1177.0, 2992.0], [5465.0, 2940.0], [5467.0, 3085.0], [1179.0, 3137.0]]\n",
      "yue\n",
      "[[5739.0, 3004.0], [6139.0, 3040.0], [6121.0, 3236.0], [5721.0, 3200.0]]\n",
      "6\n",
      "[[962.0, 3026.0], [1005.0, 3026.0], [1005.0, 3086.0], [962.0, 3086.0]]\n",
      "at least one of X or Y must have negative variance i.e. either oX)0 or\n",
      "[[1177.0, 3154.0], [5465.0, 3110.0], [5467.0, 3280.0], [1179.0, 3324.0]]\n",
      "Y<0.\n",
      "[[1187.0, 3340.0], [1732.0, 3340.0], [1732.0, 3494.0], [1187.0, 3494.0]]\n",
      "Naive Bayes assumes that all features are conditionally independent given the\n",
      "[[1160.0, 3698.0], [5465.0, 3663.0], [5466.0, 3808.0], [1161.0, 3842.0]]\n",
      "7\n",
      "[[944.0, 3723.0], [1014.0, 3723.0], [1014.0, 3808.0], [944.0, 3808.0]]\n",
      "class label.\n",
      "[[1168.0, 3886.0], [1764.0, 3866.0], [1769.0, 4010.0], [1173.0, 4031.0]]\n",
      "LDA is sensitive to outliers in the dataset.\n",
      "[[1169.0, 4251.0], [3438.0, 4224.0], [3440.0, 4360.0], [1170.0, 4387.0]]\n",
      "8\n",
      "[[927.0, 4267.0], [1005.0, 4267.0], [1005.0, 4360.0], [927.0, 4360.0]]\n",
      "A die is loaded so that the probability of a face coming up is proportional to the\n",
      "[[1160.0, 4599.0], [5491.0, 4573.0], [5492.0, 4726.0], [1161.0, 4752.0]]\n",
      "9\n",
      "[[936.0, 4658.0], [988.0, 4658.0], [988.0, 4734.0], [936.0, 4734.0]]\n",
      "yue\n",
      "[[5772.0, 4654.0], [6268.0, 4688.0], [6252.0, 4908.0], [5756.0, 4875.0]]\n",
      "number on that face. The die is rolled with outcome X. The expected value of X\n",
      "[[1169.0, 4777.0], [5500.0, 4743.0], [5501.0, 4913.0], [1170.0, 4947.0]]\n",
      "is greater than 4.\n",
      "[[1159.0, 4991.0], [2102.0, 4963.0], [2107.0, 5107.0], [1164.0, 5135.0]]\n",
      "yale\n",
      "[[5757.0, 5239.0], [6269.0, 5284.0], [6249.0, 5497.0], [5738.0, 5452.0]]\n",
      "B={11[-1,0]} is one of the basis in 2D-space.\n",
      "[[1160.0, 5339.0], [4044.0, 5303.0], [4046.0, 5473.0], [1162.0, 5509.0]]\n",
      "10\n",
      "[[910.0, 5389.0], [1005.0, 5389.0], [1005.0, 5457.0], [910.0, 5457.0]]\n"
     ]
    },
    {
     "data": {
      "text/plain": [
       "True"
      ]
     },
     "execution_count": 1,
     "metadata": {},
     "output_type": "execute_result"
    }
   ],
   "source": [
    "import sys\n",
    "\n",
    "print(sys.version)\n",
    "from paddleocr import PaddleOCR, draw_ocr\n",
    "import cv2\n",
    "\n",
    "import tensorflow as tf\n",
    "import numpy as np\n",
    "import pandas as pd\n",
    "import os\n",
    "import statistics\n",
    "\n",
    "\n",
    "image_path='20240328_145247.jpg'\n",
    "base_name = os.path.basename(image_path)\n",
    "image_cv = cv2.imread(image_path)\n",
    "image_height = image_cv.shape[0]\n",
    "image_width = image_cv.shape[1]\n",
    "print(\"!------------------------------start-----------------------------------!\")\n",
    "print(\"Started processing of the image :\",base_name)\n",
    "print(image_width)\n",
    "\n",
    "ocr = PaddleOCR(lang='en')\n",
    "output = ocr.ocr(image_path)[0]\n",
    "\n",
    "print(\"OCR detection done\")\n",
    "\n",
    "boxes = [line[0] for line in output]\n",
    "texts = [line[1][0] for line in output]\n",
    "probabilities = [line[1][1] for line in output]\n",
    "\n",
    "\n",
    "\n",
    "image_boxes = image_cv.copy()\n",
    "\n",
    "for box,text in zip(boxes,texts):\n",
    "    print(text)\n",
    "    print(box)\n",
    "    cv2.rectangle(image_boxes,(int(box[0][0]),int(box[0][1])),(int(box[2][0]),int(box[2][1])),(0,0,255),5)  #needs top left and bottom right to draw bounding box\n",
    "    cv2.putText(image_boxes,text,(int(box[0][0]),int(box[0][1])),cv2.FONT_HERSHEY_SIMPLEX,4,(222,0,0),1)\n",
    "\n",
    "\n",
    "\n",
    "output_file_name = f'detect_{base_name}'\n",
    "\n",
    "# Save the processed image\n",
    "cv2.imwrite(output_file_name, image_boxes)"
   ]
  },
  {
   "cell_type": "code",
   "execution_count": 1,
   "metadata": {},
   "outputs": [
    {
     "name": "stdout",
     "output_type": "stream",
     "text": [
      "PaddlePaddle version: 2.6.1\n",
      "Is compiled with CUDA: False\n",
      "No CUDA devices available\n"
     ]
    }
   ],
   "source": [
    "import paddle\n",
    "\n",
    "# Check PaddlePaddle version\n",
    "print(\"PaddlePaddle version:\", paddle.__version__)\n",
    "\n",
    "# Check if PaddlePaddle is compiled with CUDA\n",
    "print(\"Is compiled with CUDA:\", paddle.is_compiled_with_cuda())\n",
    "\n",
    "# Check if CUDA device is available\n",
    "cuda_available = paddle.device.cuda.device_count()\n",
    "if cuda_available > 0:\n",
    "    print(f\"Number of available CUDA devices: {cuda_available}\")\n",
    "    for i in range(cuda_available):\n",
    "        print(f\"CUDA Device {i}: {paddle.device.cuda.get_device_name(i)}\")\n",
    "else:\n",
    "    print(\"No CUDA devices available\")\n"
   ]
  },
  {
   "cell_type": "code",
   "execution_count": 1,
   "metadata": {},
   "outputs": [
    {
     "name": "stdout",
     "output_type": "stream",
     "text": [
      "PyTorch version: 2.3.1\n",
      "CUDA available: False\n",
      "CUDA version: None\n",
      "cuDNN version: None\n"
     ]
    }
   ],
   "source": [
    "# import tensorflow as tf\n",
    "\n",
    "# print(\"TensorFlow version:\", tf.__version__)\n",
    "# print(\"Built with CUDA:\", tf.test.is_built_with_cuda())\n",
    "# print(\"GPU devices:\", tf.config.list_physical_devices('GPU'))\n",
    "\n",
    "\n",
    "import torch\n",
    "\n",
    "print(\"PyTorch version:\", torch.__version__)\n",
    "print(\"CUDA available:\", torch.cuda.is_available())\n",
    "print(\"CUDA version:\", torch.version.cuda)\n",
    "print(\"cuDNN version:\", torch.backends.cudnn.version())\n"
   ]
  },
  {
   "cell_type": "code",
   "execution_count": 3,
   "metadata": {},
   "outputs": [
    {
     "name": "stdout",
     "output_type": "stream",
     "text": [
      "TensorFlow version: 2.13.0\n",
      "GPU Device: device: 0, name: NVIDIA GeForce GTX 1650, pci bus id: 0000:01:00.0, compute capability: 7.5\n",
      "Details: name: \"/device:GPU:0\"\n",
      "device_type: \"GPU\"\n",
      "memory_limit: 786104320\n",
      "locality {\n",
      "  bus_id: 1\n",
      "  links {\n",
      "  }\n",
      "}\n",
      "incarnation: 15260561035344764945\n",
      "physical_device_desc: \"device: 0, name: NVIDIA GeForce GTX 1650, pci bus id: 0000:01:00.0, compute capability: 7.5\"\n",
      "xla_global_id: 416903419\n",
      "\n"
     ]
    },
    {
     "name": "stderr",
     "output_type": "stream",
     "text": [
      "2024-06-24 23:47:49.719965: I tensorflow/compiler/xla/stream_executor/cuda/cuda_gpu_executor.cc:995] successful NUMA node read from SysFS had negative value (-1), but there must be at least one NUMA node, so returning NUMA node zero. See more at https://github.com/torvalds/linux/blob/v6.0/Documentation/ABI/testing/sysfs-bus-pci#L344-L355\n",
      "2024-06-24 23:47:49.944402: I tensorflow/compiler/xla/stream_executor/cuda/cuda_gpu_executor.cc:995] successful NUMA node read from SysFS had negative value (-1), but there must be at least one NUMA node, so returning NUMA node zero. See more at https://github.com/torvalds/linux/blob/v6.0/Documentation/ABI/testing/sysfs-bus-pci#L344-L355\n",
      "2024-06-24 23:47:49.945117: I tensorflow/compiler/xla/stream_executor/cuda/cuda_gpu_executor.cc:995] successful NUMA node read from SysFS had negative value (-1), but there must be at least one NUMA node, so returning NUMA node zero. See more at https://github.com/torvalds/linux/blob/v6.0/Documentation/ABI/testing/sysfs-bus-pci#L344-L355\n",
      "2024-06-24 23:47:50.109991: I tensorflow/compiler/xla/stream_executor/cuda/cuda_gpu_executor.cc:995] successful NUMA node read from SysFS had negative value (-1), but there must be at least one NUMA node, so returning NUMA node zero. See more at https://github.com/torvalds/linux/blob/v6.0/Documentation/ABI/testing/sysfs-bus-pci#L344-L355\n",
      "2024-06-24 23:47:50.110657: I tensorflow/compiler/xla/stream_executor/cuda/cuda_gpu_executor.cc:995] successful NUMA node read from SysFS had negative value (-1), but there must be at least one NUMA node, so returning NUMA node zero. See more at https://github.com/torvalds/linux/blob/v6.0/Documentation/ABI/testing/sysfs-bus-pci#L344-L355\n",
      "2024-06-24 23:47:50.111239: I tensorflow/compiler/xla/stream_executor/cuda/cuda_gpu_executor.cc:995] successful NUMA node read from SysFS had negative value (-1), but there must be at least one NUMA node, so returning NUMA node zero. See more at https://github.com/torvalds/linux/blob/v6.0/Documentation/ABI/testing/sysfs-bus-pci#L344-L355\n",
      "2024-06-24 23:47:50.112246: I tensorflow/core/common_runtime/gpu/gpu_device.cc:1639] Created device /device:GPU:0 with 749 MB memory:  -> device: 0, name: NVIDIA GeForce GTX 1650, pci bus id: 0000:01:00.0, compute capability: 7.5\n"
     ]
    }
   ],
   "source": [
    "import tensorflow as tf\n",
    "from tensorflow.python.client import device_lib\n",
    "\n",
    "# Print TensorFlow version\n",
    "print(\"TensorFlow version:\", tf.__version__)\n",
    "\n",
    "# List available devices\n",
    "devices = device_lib.list_local_devices()\n",
    "for device in devices:\n",
    "    if device.device_type == 'GPU':\n",
    "        print(\"GPU Device:\", device.physical_device_desc)\n",
    "        print(\"Details:\", device)\n"
   ]
  },
  {
   "cell_type": "code",
   "execution_count": 4,
   "metadata": {},
   "outputs": [
    {
     "name": "stderr",
     "output_type": "stream",
     "text": [
      "DEBUG:tensorflow:Layer lstm_6 will use cuDNN kernels when running on GPU.\n",
      "DEBUG:tensorflow:Layer lstm_6 will use cuDNN kernels when running on GPU.\n",
      "DEBUG:tensorflow:Layer lstm_6 will use cuDNN kernels when running on GPU.\n",
      "DEBUG:tensorflow:Layer lstm_7 will use cuDNN kernels when running on GPU.\n",
      "DEBUG:tensorflow:Layer lstm_7 will use cuDNN kernels when running on GPU.\n",
      "DEBUG:tensorflow:Layer lstm_7 will use cuDNN kernels when running on GPU.\n"
     ]
    },
    {
     "name": "stdout",
     "output_type": "stream",
     "text": [
      "Doctr OCR is using device: cuda\n"
     ]
    }
   ],
   "source": [
    "import torch\n",
    "from doctr.models import ocr_predictor\n",
    "import numpy as np\n",
    "from PIL import Image\n",
    "\n",
    "# Check if the predictor is using GPU\n",
    "predictor = ocr_predictor('db_resnet50', 'crnn_vgg16_bn', pretrained=True)\n",
    "device = 'cuda' if torch.cuda.is_available() else 'cpu'\n",
    "print(f\"Doctr OCR is using device: {device}\")\n",
    "\n"
   ]
  },
  {
   "cell_type": "code",
   "execution_count": null,
   "metadata": {},
   "outputs": [],
   "source": [
    "import pandas as pd\n",
    "\n",
    "\n",
    "# actual_df=pd.read_csv('Marks.csv')\n",
    "# pred_df=pd.read_csv('mytest_V2/csvs/test2.csv')\n",
    "pred_df=pd.read_csv('mytest_V2/csvs/test_mac.csv')\n",
    "actual_df=pd.read_csv('mytest_V2/Marks.csv')\n",
    "correct=0\n",
    "total=0\n",
    "\n",
    "\n",
    "for index, row in pred_df.iterrows():\n",
    "    filename=row[\"image_name\"]\n",
    "    actual_row=actual_df.loc[actual_df['Filename']==filename]\n",
    "    actual_marks=actual_row['Total Marks'].values[0]\n",
    "    pred_marks=row['pred_marks']\n",
    "    correct+=pred_marks\n",
    "    total+=actual_marks\n",
    "\n",
    "\n",
    "print(\"the accuracy is: \",correct/total)"
   ]
  },
  {
   "cell_type": "code",
   "execution_count": null,
   "metadata": {},
   "outputs": [],
   "source": [
    "import csv\n",
    "\n",
    "pred_path='mytest_V2/csvs/test_mac.csv'\n",
    "actual_path='mytest_V2/csvs/test1.csv'\n",
    "\n",
    "# Function to read CSV file into a list of dictionaries\n",
    "def read_csv(filename):\n",
    "    with open(filename, mode='r', newline='') as file:\n",
    "        reader = csv.DictReader(file)\n",
    "        data = list(reader)\n",
    "    return data\n",
    "\n",
    "# Function to write a list of dictionaries into a CSV file\n",
    "def write_csv(filename, data, headers):\n",
    "    with open(filename, mode='w', newline='') as file:\n",
    "        writer = csv.DictWriter(file, fieldnames=headers)\n",
    "        writer.writeheader()\n",
    "        writer.writerows(data)\n",
    "\n",
    "# Read the CSV files\n",
    "csv1_data = read_csv(pred_path)\n",
    "csv2_data = read_csv(actual_path)\n",
    "\n",
    "# Assuming file2.csv specifies the order using a common 'ID' field\n",
    "order_mapping = {row['Filename']: idx for idx, row in enumerate(csv2_data)}\n",
    "\n",
    "# Sort csv1_data based on the order specified in csv2_data\n",
    "csv1_data_sorted = sorted(csv1_data, key=lambda x: order_mapping.get(x['Filename']))\n",
    "\n",
    "# Write the sorted data to a new CSV file\n",
    "write_csv(pred_path, csv1_data_sorted, csv1_data[0].keys())\n"
   ]
  }
 ],
 "metadata": {
  "kernelspec": {
   "display_name": "mycondaenv",
   "language": "python",
   "name": "python3"
  },
  "language_info": {
   "codemirror_mode": {
    "name": "ipython",
    "version": 3
   },
   "file_extension": ".py",
   "mimetype": "text/x-python",
   "name": "python",
   "nbconvert_exporter": "python",
   "pygments_lexer": "ipython3",
   "version": "3.8.18"
  }
 },
 "nbformat": 4,
 "nbformat_minor": 2
}
